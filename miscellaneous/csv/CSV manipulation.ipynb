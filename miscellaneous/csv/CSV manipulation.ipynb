{
 "cells": [
  {
   "cell_type": "markdown",
   "metadata": {},
   "source": [
    "# CSV Manipulation\n",
    "\n",
    "Python is great for csv manipulation. Also, its there by default.\n",
    "Below app takes 4th column of csv file as array and the counts the frequency of elements."
   ]
  },
  {
   "cell_type": "code",
   "execution_count": 1,
   "metadata": {},
   "outputs": [
    {
     "name": "stdout",
     "output_type": "stream",
     "text": [
      "['call_log2024-11-13.txt', 'call_log2024-11-14.txt']\n",
      "call_log2024-11-13.txt - {'IDFC_PCS_CVP': 6346, 'IDFC_SINGLE_TFN_CVP': 21078, 'MicroApp': 1505, 'IDFC_CVP_IVR': 74, 'IDFC_SETTLEMENT_CVP': 734, 'IDFC_SOCIAL_MEDIA_CVP': 18, 'IDFC_AT_TIME_WINDOW_CVP': 38, 'IDFC_CVP': 3, 'IDFC_LEADAUTH_CVP': 2, 'IDFC_NRI_CALLING_CVP': 19, 'IDFC_SINGLE_TFN_CVP_CUG': 11}\n",
      "call_log2024-11-14.txt - {'IDFC_PCS_CVP': 6148, 'IDFC_SINGLE_TFN_CVP': 20360, 'IDFC_CVP_IVR': 90, 'MicroApp': 986, 'IDFC_SETTLEMENT_CVP': 674, 'IDFC_NRI_CALLING_CVP': 21, 'IDFC_AT_TIME_WINDOW_CVP': 52, 'IDFC_SOCIAL_MEDIA_CVP': 19, 'IDFC_CVP': 8, 'IDFC_SINGLE_TFN_CVP_CUG': 1}\n"
     ]
    }
   ],
   "source": [
    "import csv\n",
    "import os\n",
    "\n",
    "# Also CSV logs are great way to do analysis at log level\n",
    "# returns column[column_index] as array \n",
    "def read_column_from_csv(file_path, column_index):\n",
    "    column_data = []\n",
    "    with open(file_path, mode='r') as file:\n",
    "        csv_reader = csv.reader(file)\n",
    "        for row in csv_reader:\n",
    "            if len(row)>column_index:\n",
    "                column_data.append(row[column_index])\n",
    "    return column_data\n",
    "\n",
    "# count frequency of array and return a hasmap\n",
    "def count_frequency(arr):\n",
    "    freq_dict = {}\n",
    "    for element in arr:\n",
    "        if element in freq_dict:\n",
    "            freq_dict[element] += 1\n",
    "        else:\n",
    "            freq_dict[element] = 1\n",
    "    return freq_dict\n",
    "\n",
    "# get files in a folder\n",
    "def get_file_names(directory_path):\n",
    "    files = []\n",
    "    try:\n",
    "        with os.scandir(directory_path) as entries:\n",
    "            for entry in entries:\n",
    "                if entry.is_file():\n",
    "                    files.append(entry.name)\n",
    "    except FileNotFoundError:\n",
    "        print(f\"Path {directory_path} not found\")\n",
    "    return files\n",
    "\n",
    "def main():\n",
    "    path = \"logs\"\n",
    "    column_index = 4\n",
    "    files = get_file_names(path)\n",
    "    print(files)\n",
    "    for file in files:\n",
    "        data = read_column_from_csv(path+\"/\"+file,column_index)\n",
    "        print(f\"{file} - {count_frequency(data)}\")\n",
    "\n",
    "main()"
   ]
  }
 ],
 "metadata": {
  "kernelspec": {
   "display_name": "Python 3",
   "language": "python",
   "name": "python3"
  },
  "language_info": {
   "codemirror_mode": {
    "name": "ipython",
    "version": 3
   },
   "file_extension": ".py",
   "mimetype": "text/x-python",
   "name": "python",
   "nbconvert_exporter": "python",
   "pygments_lexer": "ipython3",
   "version": "3.10.6"
  }
 },
 "nbformat": 4,
 "nbformat_minor": 2
}
